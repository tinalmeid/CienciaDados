{
  "nbformat": 4,
  "nbformat_minor": 0,
  "metadata": {
    "colab": {
      "provenance": [],
      "authorship_tag": "ABX9TyM3lOTlR5JojruQoEuO6UyU",
      "include_colab_link": true
    },
    "kernelspec": {
      "name": "python3",
      "display_name": "Python 3"
    },
    "language_info": {
      "name": "python"
    }
  },
  "cells": [
    {
      "cell_type": "markdown",
      "metadata": {
        "id": "view-in-github",
        "colab_type": "text"
      },
      "source": [
        "<a href=\"https://colab.research.google.com/github/tinalmeid/CienciaDados/blob/main/Unidade_1.ipynb\" target=\"_parent\"><img src=\"https://colab.research.google.com/assets/colab-badge.svg\" alt=\"Open In Colab\"/></a>"
      ]
    },
    {
      "cell_type": "code",
      "execution_count": 1,
      "metadata": {
        "id": "AubViGmJ0jsA",
        "colab": {
          "base_uri": "https://localhost:8080/"
        },
        "outputId": "0e233b30-2893-4c5a-80df-65467d9936fe"
      },
      "outputs": [
        {
          "output_type": "stream",
          "name": "stdout",
          "text": [
            "Hello world\n"
          ]
        }
      ],
      "source": [
        "print (\"Hello world\")"
      ]
    },
    {
      "cell_type": "markdown",
      "source": [
        "Resposta da Atividade da Aula Prática da Unidade 1"
      ],
      "metadata": {
        "id": "kaoa2djSnguJ"
      }
    },
    {
      "cell_type": "code",
      "source": [
        "#funçao para inserir o nome do aluno\n",
        "aluno = input(\"Digite o nome do aluno:\")"
      ],
      "metadata": {
        "id": "r4XFF1FO0l9A",
        "colab": {
          "base_uri": "https://localhost:8080/"
        },
        "outputId": "609c0d2d-864e-4c79-e099-ea80fad0867f"
      },
      "execution_count": 19,
      "outputs": [
        {
          "name": "stdout",
          "output_type": "stream",
          "text": [
            "Digite o nome do aluno:Matheus\n"
          ]
        }
      ]
    },
    {
      "cell_type": "code",
      "source": [
        "#variáveis para armezenar as notas do aluno\n",
        "ativ_1 = int(input(\"Digite a nota da atividade 1:\"))\n",
        "ativ_2 = int(input(\"Digite a nota da atividade 2:\"))\n",
        "prova_1 = int(input(\"Digite a nota da prova 1:\"))\n",
        "prova_2 = int(input(\"Digite a nota da prova 2:\"))"
      ],
      "metadata": {
        "colab": {
          "base_uri": "https://localhost:8080/"
        },
        "id": "gOJI6fIkov__",
        "outputId": "a4d74273-557b-49cf-f578-03702f012214"
      },
      "execution_count": 20,
      "outputs": [
        {
          "name": "stdout",
          "output_type": "stream",
          "text": [
            "Digite a nota da atividade 1:8\n",
            "Digite a nota da atividade 2:7\n",
            "Digite a nota da prova 1:9\n",
            "Digite a nota da prova 2:10\n"
          ]
        }
      ]
    },
    {
      "cell_type": "code",
      "source": [
        "#armazena as notas na lista\n",
        "nota_final = [ativ_1,ativ_2,prova_1, prova_2]"
      ],
      "metadata": {
        "id": "ZbCkZ5O2r8Sd"
      },
      "execution_count": 21,
      "outputs": []
    },
    {
      "cell_type": "code",
      "source": [
        "#função para cálculo da media\n",
        "media = (ativ_1 + ativ_2 + prova_1 + prova_2)/4"
      ],
      "metadata": {
        "id": "6LoRe1_DpTRo"
      },
      "execution_count": 22,
      "outputs": []
    },
    {
      "cell_type": "code",
      "source": [
        "#função par verifica a situação do aluno\n",
        "if media >= 7:\n",
        "  situacao = \"Aprovado\"\n",
        "else:\n",
        "  situacao = \"Reprovado\""
      ],
      "metadata": {
        "id": "2mVqvyVTp4pH"
      },
      "execution_count": 23,
      "outputs": []
    },
    {
      "cell_type": "code",
      "source": [
        "print(\"Aluno:\", aluno)\n",
        "print(\"Essas são as notas das atividades e provas:\", nota_final)\n",
        "print(\"E com a média:\", media)\n",
        "print(\"A Situação do \",aluno, \"é\", situacao)"
      ],
      "metadata": {
        "colab": {
          "base_uri": "https://localhost:8080/"
        },
        "id": "pJOIP7U-qQRf",
        "outputId": "8ead24df-2ade-4372-82d8-0dcf7849dc82"
      },
      "execution_count": 24,
      "outputs": [
        {
          "output_type": "stream",
          "name": "stdout",
          "text": [
            "Aluno: Matheus\n",
            "Essas são as notas das atividades e provas: [8, 7, 9, 10]\n",
            "E com a média: 8.5\n",
            "A Situação do  Matheus é Aprovado\n"
          ]
        }
      ]
    },
    {
      "cell_type": "code",
      "source": [],
      "metadata": {
        "id": "kcLhYqQqtdpz"
      },
      "execution_count": null,
      "outputs": []
    }
  ]
}